{
 "cells": [
  {
   "cell_type": "code",
   "execution_count": 3,
   "metadata": {},
   "outputs": [
    {
     "data": {
      "text/plain": [
       "[1, 2, 3, 4, 4, 5, 7]"
      ]
     },
     "execution_count": 3,
     "metadata": {},
     "output_type": "execute_result"
    }
   ],
   "source": [
    "# 冒泡排序: 时间复杂度: O(n(n+1)/2) --> O(n2) 空间复杂度: O(1) 稳定性: 稳定\n",
    "\n",
    "def bubble_sort(nums):\n",
    "    for i in range(len(nums)):\n",
    "        for j in range(len(nums)-i-1):\n",
    "            if nums[j] > nums[j+1]:\n",
    "                nums[j], nums[j+1] = nums[j+1], nums[j]\n",
    "    return nums\n",
    "\n",
    "bubble_sort([4, 1, 7, 2, 5, 3, 4])"
   ]
  },
  {
   "cell_type": "code",
   "execution_count": 20,
   "metadata": {},
   "outputs": [
    {
     "data": {
      "text/plain": [
       "[1, 2, 3, 4, 5, 7]"
      ]
     },
     "execution_count": 20,
     "metadata": {},
     "output_type": "execute_result"
    }
   ],
   "source": [
    "# 插入排序: 时间复杂度: O(n(n+1)/2) --> O(n2) 空间复杂度: O(1) 稳定性: 稳定\n",
    "\n",
    "def insert_sort(nums):\n",
    "    for i in range(1, len(nums)):\n",
    "        for j in range(i, 0, -1):  # i --> 1\n",
    "            if nums[j-1] > nums[j]:\n",
    "                nums[j-1], nums[j] = nums[j], nums[j-1]\n",
    "    return nums\n",
    "\n",
    "insert_sort([5, 1, 2, 4, 7, 3])"
   ]
  },
  {
   "cell_type": "code",
   "execution_count": 22,
   "metadata": {},
   "outputs": [
    {
     "data": {
      "text/plain": [
       "[1, 2, 3, 4, 5, 6]"
      ]
     },
     "execution_count": 22,
     "metadata": {},
     "output_type": "execute_result"
    }
   ],
   "source": [
    "# 选择排序: 时间复杂度: O(n(n+1)/2) --> O(n2) 空间复杂度: O(1) 稳定性: 不稳定，如5，8，5，2，9\n",
    "\n",
    "def select_sort(nums):\n",
    "    for i in range(len(nums)):\n",
    "        min_index = i\n",
    "        for j in range(i, len(nums)):\n",
    "            if nums[j] < nums[min_index]:\n",
    "                min_index = j\n",
    "        nums[i], nums[min_index] = nums[min_index], nums[i]\n",
    "                \n",
    "    return nums\n",
    "\n",
    "select_sort([5, 2, 6, 4, 1, 3])"
   ]
  },
  {
   "cell_type": "code",
   "execution_count": null,
   "metadata": {},
   "outputs": [],
   "source": [
    "# 归并排序\n",
    "\n",
    "def merge():\n",
    "\n",
    "def merge_sort(nums):\n",
    "    return\n",
    "\n",
    "merge_sort([4, 2, 7, 1, 9, 5])"
   ]
  }
 ],
 "metadata": {
  "kernelspec": {
   "display_name": "Python 3",
   "language": "python",
   "name": "python3"
  },
  "language_info": {
   "codemirror_mode": {
    "name": "ipython",
    "version": 3
   },
   "file_extension": ".py",
   "mimetype": "text/x-python",
   "name": "python",
   "nbconvert_exporter": "python",
   "pygments_lexer": "ipython3",
   "version": "3.8.3"
  }
 },
 "nbformat": 4,
 "nbformat_minor": 4
}
