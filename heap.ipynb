{
 "cells": [
  {
   "cell_type": "code",
   "execution_count": 6,
   "metadata": {},
   "outputs": [
    {
     "name": "stdout",
     "output_type": "stream",
     "text": [
      "[0, 33, 16, 21, 5, 15, 17, 9, 1, 2, 8, 6, 7, 13]\n"
     ]
    }
   ],
   "source": [
    "# 堆化\n",
    "# 从上之下\n",
    "def heapify_up_2_down(nums, idx, node_num):\n",
    "    while True:\n",
    "        max_value_idx = idx\n",
    "        left_node_idx = idx * 2\n",
    "        right_node_idx = idx * 2 + 1\n",
    "        if left_node_idx <= node_num and nums[left_node_idx] > nums[max_value_idx]:\n",
    "            max_value_idx = left_node_idx\n",
    "        if right_node_idx <= node_num and nums[right_node_idx] > nums[max_value_idx]:\n",
    "            max_value_idx = right_node_idx\n",
    "        if max_value_idx == idx:  # 叶子节点 or 左右子节点都小于父节点\n",
    "            break\n",
    "        # 左右子节点存在大于父节点，交换值\n",
    "        nums[idx], nums[max_value_idx] = nums[max_value_idx], nums[idx]\n",
    "        idx = max_value_idx  # 继续堆化\n",
    "\n",
    "# 从下至上\n",
    "def heapify_down_2_up(nums, idx):\n",
    "    while idx > 1:\n",
    "        parent_idx = idx // 2\n",
    "        if nums[idx] > nums[parent_idx]:\n",
    "            nums[idx], nums[parent_idx] = nums[parent_idx], nums[idx]\n",
    "        idx = parent_idx\n"
   ]
  },
  {
   "cell_type": "code",
   "execution_count": null,
   "metadata": {},
   "outputs": [],
   "source": [
    "# 完全二叉树数组存储\n",
    "nums = [0, 33, 2, 9, 5, 6, 13, 21, 1, 16, 8, 15, 7, 17]\n",
    "\n",
    "# 建堆\n",
    "def build_heap(nums, node_num):\n",
    "    last_parent_node_idx = node_num // 2\n",
    "    for idx in range(last_parent_node_idx, 0, -1):\n",
    "        heapify_up_2_down(nums, idx, node_num)\n",
    "    return nums\n",
    "\n",
    "node_num = len(nums) - 1\n",
    "heap = build_heap(nums, node_num)\n",
    "print(heap)\n",
    "\n",
    "\n",
    "# 堆排序：建堆 + 排序\n",
    "def heap_sort(heap):\n",
    "    node_num = len(heap) - 1\n",
    "    while node_num > 1:\n",
    "        heap[1], heap[node_num] = heap[node_num], heap[1]\n",
    "        node_num -= 1\n",
    "        heapify_up_2_down(heap, 1, node_num)\n",
    "    return heap\n",
    "    \n",
    "\n",
    "# sort_nums = heap_sort(heap)\n",
    "# print(sort_nums)"
   ]
  },
  {
   "cell_type": "code",
   "execution_count": 9,
   "metadata": {},
   "outputs": [
    {
     "name": "stdout",
     "output_type": "stream",
     "text": [
      "[0, 33, 16, 22, 5, 15, 17, 21, 1, 2, 8, 6, 7, 13, 9]\n",
      "33\n",
      "[0, 22, 16, 21, 5, 15, 17, 9, 1, 2, 8, 6, 7, 13]\n"
     ]
    }
   ],
   "source": [
    "# 插入元素: append\n",
    "def heap_insert(heap, value):\n",
    "    heap.append(value)\n",
    "    heapify_down_2_up(heap, len(heap) - 1)\n",
    "\n",
    "heap = [0, 33, 16, 21, 5, 15, 17, 9, 1, 2, 8, 6, 7, 13]\n",
    "heap_insert(heap, 22)\n",
    "print(heap)\n",
    "    \n",
    "\n",
    "# 删除堆顶元素: pop(1)\n",
    "\n",
    "def remove_max(heap):\n",
    "    heap[1], heap[-1] = heap[-1], heap[1]\n",
    "    heapify_up_2_down(heap, 1, len(heap) - 2)\n",
    "    return heap.pop(-1)\n",
    "\n",
    "max_value = remove_max(heap)\n",
    "print(max_value)\n",
    "print(heap)"
   ]
  },
  {
   "cell_type": "code",
   "execution_count": null,
   "metadata": {},
   "outputs": [],
   "source": [
    "# 堆与栈"
   ]
  }
 ],
 "metadata": {
  "kernelspec": {
   "display_name": "Python 3",
   "language": "python",
   "name": "python3"
  },
  "language_info": {
   "codemirror_mode": {
    "name": "ipython",
    "version": 3
   },
   "file_extension": ".py",
   "mimetype": "text/x-python",
   "name": "python",
   "nbconvert_exporter": "python",
   "pygments_lexer": "ipython3",
   "version": "3.8.3"
  }
 },
 "nbformat": 4,
 "nbformat_minor": 4
}
