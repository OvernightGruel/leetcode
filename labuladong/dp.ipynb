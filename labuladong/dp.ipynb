{
 "cells": [
  {
   "cell_type": "code",
   "execution_count": 13,
   "metadata": {},
   "outputs": [
    {
     "data": {
      "text/plain": [
       "55"
      ]
     },
     "execution_count": 13,
     "metadata": {},
     "output_type": "execute_result"
    }
   ],
   "source": [
    "import numpy as np\n",
    "\n",
    "# fib: f(n) = f(n-2) + f(n-1)\n",
    "# def fib(n):\n",
    "#     if n < 0:\n",
    "#         return 0\n",
    "#     if n < 2:\n",
    "#         return n\n",
    "#     length = n + 1\n",
    "#     opt = np.zeros(length)\n",
    "#     opt[0] = 0\n",
    "#     opt[1] = 1  # base case\n",
    "#     for i in range(2, length):\n",
    "#         opt[i] = opt[i-2] + opt[i-1]\n",
    "#     print(opt)\n",
    "#     return opt[n]\n",
    "    \n",
    "\n",
    "# 状态压缩\n",
    "def fib(n):\n",
    "    if n < 0:\n",
    "        return 0\n",
    "    if n < 2:\n",
    "        return n\n",
    "    n_2 = 0\n",
    "    n_1 = 1\n",
    "    for i in range(2, n+1):\n",
    "        res = n_2 + n_1\n",
    "        n_2, n_1 = n_1, res\n",
    "    return res\n",
    "    \n",
    "fib(10)"
   ]
  },
  {
   "cell_type": "code",
   "execution_count": 1,
   "metadata": {},
   "outputs": [
    {
     "name": "stdout",
     "output_type": "stream",
     "text": [
      "[0, 4, 1, 4]\n"
     ]
    },
    {
     "data": {
      "text/plain": [
       "-1"
      ]
     },
     "execution_count": 1,
     "metadata": {},
     "output_type": "execute_result"
    }
   ],
   "source": [
    "# 322: coins change\n",
    "# dp[n]: when amount=n, min coins number\n",
    "# 初始值: amount + 1\n",
    "# f(n) = min(f(n-coin)) + 1, coin∈coins\n",
    "def coin_change(coins, amount):\n",
    "    length = amount + 1\n",
    "    opt = [length for _ in range(length)]\n",
    "    opt[0] = 0\n",
    "    for i in range(length):\n",
    "        for c in coins:\n",
    "            if i - c >= 0:\n",
    "                opt[i] = min(opt[i - c] + 1, opt[i])\n",
    "    print(opt)\n",
    "    return -1 if opt[-1] == length else opt[-1]\n",
    "\n",
    "\n",
    "coin_change([2], 3)"
   ]
  },
  {
   "cell_type": "code",
   "execution_count": 11,
   "metadata": {},
   "outputs": [
    {
     "name": "stdout",
     "output_type": "stream",
     "text": [
      "[1 1 1 2 2 3 4 4]\n"
     ]
    },
    {
     "data": {
      "text/plain": [
       "4"
      ]
     },
     "execution_count": 11,
     "metadata": {},
     "output_type": "execute_result"
    }
   ],
   "source": [
    "import numpy as np\n",
    "# 300: Longest Increasing Subsequence\n",
    "# dp[n]: 以nums[n]结尾的最长递增子序列长度\n",
    "# 初始值: 1\n",
    "# f(n) = min(f(i)) + 1, i∈[0, n) & nums[i] < nums[n]\n",
    "def lengthOfLIS(nums):\n",
    "    length = len(nums)\n",
    "    dp = np.ones(length, dtype=np.int32)\n",
    "    for i in range(length):\n",
    "        for j in range(i):\n",
    "            if nums[j] < nums[i]:\n",
    "                dp[i] = max(dp[j] + 1, dp[i])\n",
    "    print(dp)\n",
    "    return max(dp)\n",
    "\n",
    "lengthOfLIS([10,9,2,5,3,7,101,18])  # 最长递增子序列是 [2,3,7,101]，因此长度为 4"
   ]
  },
  {
   "cell_type": "code",
   "execution_count": 6,
   "metadata": {},
   "outputs": [
    {
     "name": "stdout",
     "output_type": "stream",
     "text": [
      "[-2, 1, -2, 4, 3, 5, 6, 1, 5]\n"
     ]
    },
    {
     "data": {
      "text/plain": [
       "6"
      ]
     },
     "execution_count": 6,
     "metadata": {},
     "output_type": "execute_result"
    }
   ],
   "source": [
    "import copy\n",
    "# 42: maxSubArray\n",
    "# dp[n]: 以nums[n]结尾的子数组的最大和\n",
    "# 初始值: nums[n]\n",
    "# f(n) = max(f(n-1) + nums[n], nums[n])\n",
    "def maxSubArray(nums):\n",
    "    dp = copy.deepcopy(nums)\n",
    "    for i in range(1, len(nums)):\n",
    "        dp[i] = dp[i-1] + nums[i] if dp[i-1] >=0 else nums[i]\n",
    "    print(dp)\n",
    "    return max(dp)\n",
    "\n",
    "maxSubArray([-2,1,-3,4,-1,2,1,-5,4])  # [4,-1,2,1] 6"
   ]
  },
  {
   "cell_type": "code",
   "execution_count": 28,
   "metadata": {},
   "outputs": [
    {
     "name": "stdout",
     "output_type": "stream",
     "text": [
      "[2, 6, -12, -48]\n"
     ]
    },
    {
     "data": {
      "text/plain": [
       "6"
      ]
     },
     "execution_count": 28,
     "metadata": {},
     "output_type": "execute_result"
    }
   ],
   "source": [
    "# 152: maxProduct\n",
    "# dp[n]: \n",
    "# 初始值:\n",
    "# f(n) =\n",
    "def maxProduct(nums):\n",
    "    return\n",
    "\n",
    "maxProduct([2,3,-2,4])  # 6\n"
   ]
  },
  {
   "cell_type": "code",
   "execution_count": 9,
   "metadata": {},
   "outputs": [
    {
     "name": "stdout",
     "output_type": "stream",
     "text": [
      "[2, 7, 11, 11, 12]\n"
     ]
    },
    {
     "data": {
      "text/plain": [
       "12"
      ]
     },
     "execution_count": 9,
     "metadata": {},
     "output_type": "execute_result"
    }
   ],
   "source": [
    "# 198: 自然数序列非相邻数字最大和(打家劫舍)\n",
    "# dp[n]: nums[:n+1]最大和\n",
    "# 初始值: nums[n]\n",
    "# f(n) = max(f(n-2)+f(n), f(n-1))\n",
    "def rob(nums):\n",
    "    if len(nums) == 0:\n",
    "        return 0\n",
    "    if len(nums) < 3:\n",
    "        return max(nums)\n",
    "    dp = nums\n",
    "    dp[1] = max(dp[0], dp[1])\n",
    "    for i in range(2, len(nums)):\n",
    "        dp[i] = max(dp[i-1], dp[i-2] + dp[i])\n",
    "    print(dp)\n",
    "    return dp[-1]\n",
    "\n",
    "rob([2,7,9,3,1])  # 12"
   ]
  },
  {
   "cell_type": "code",
   "execution_count": 21,
   "metadata": {},
   "outputs": [
    {
     "name": "stdout",
     "output_type": "stream",
     "text": [
      "[[1, 4, 5], [2, 7, 6], [6, 8, 7]]\n"
     ]
    },
    {
     "data": {
      "text/plain": [
       "7"
      ]
     },
     "execution_count": 21,
     "metadata": {},
     "output_type": "execute_result"
    }
   ],
   "source": [
    "import numpy as np\n",
    "\n",
    "# 62: uniquePaths 1\n",
    "# dp[m][n]: 到达位置(m, n)时的路径数\n",
    "# 初始值：dp[0][:] = dp[:][0] = [1, 1, 1..]\n",
    "# f(m, n) = f(m, n-1) + f(m-1, n)\n",
    "# def uniquePaths(m, n):\n",
    "#     dp = np.ones((m, n), dtype=np.int32)\n",
    "#     for i in range(1, m):\n",
    "#         for j in range(1, n):\n",
    "#             dp[i][j] = dp[i][j-1] + dp[i-1][j]\n",
    "#     print(dp)\n",
    "#     return dp[-1, -1]\n",
    "\n",
    "# uniquePaths(3, 7)  # 28\n",
    "\n",
    "# 64: minPathSum 1\n",
    "# dp[m][n]: 到达位置(m, n)的最小步长\n",
    "# 初始值: \n",
    "# f(m, n) = min(f(m, n-1), f(m-1, n)) + f(m, n)\n",
    "def minPathSum(grid):\n",
    "    for i in range(len(grid)):\n",
    "        for j in range(len(grid[0])):\n",
    "            if i == j == 0:\n",
    "                continue\n",
    "            elif i == 0:\n",
    "                prePathSum = grid[i][j-1]\n",
    "            elif j == 0:\n",
    "                prePathSum = grid[i-1][j]\n",
    "            else:\n",
    "                prePathSum = min(grid[i-1][j], grid[i][j-1])\n",
    "            grid[i][j] = grid[i][j] + prePathSum\n",
    "    print(grid)\n",
    "    return grid[-1][-1]\n",
    "\n",
    "grid = [[1, 3, 1],\n",
    "        [1, 5, 1],\n",
    "        [4, 2, 1]]\n",
    "# grid = [[1,2,3],[4,5,6]]\n",
    "minPathSum(grid)  # 7"
   ]
  },
  {
   "cell_type": "code",
   "execution_count": 16,
   "metadata": {},
   "outputs": [
    {
     "name": "stdout",
     "output_type": "stream",
     "text": [
      "[[ 0  0  0  0  0  0  0  0  0  0  0  0]\n",
      " [ 0  0  0  5  5  5  5  5  5  5  5  5]\n",
      " [ 0  0  1  5  5  6  6  6  6  6  6  6]\n",
      " [ 0  0  1  5  5  6  8  8  9 13 13 14]\n",
      " [ 0  0  1  5  5  6  9  9 10 13 13 14]\n",
      " [ 0  0  1  5  5  6  9  9 11 13 13 15]\n",
      " [ 0  0  1  5  5  6  9  9 11 13 13 15]\n",
      " [ 0  0  1  5  5  6  9  9 11 13 13 15]\n",
      " [ 0  0  1  5  5  6  9  9 11 13 13 15]]\n"
     ]
    },
    {
     "data": {
      "text/plain": [
       "15"
      ]
     },
     "execution_count": 16,
     "metadata": {},
     "output_type": "execute_result"
    }
   ],
   "source": [
    "import numpy as np\n",
    "# 简化版：对于一组不同重量、不可分割的物品，我们需要选择一些装入背包，在满足背包最大重量限制的前提下，背包中物品总重量的最大值是多少呢？\n",
    "# dp[m][n]\n",
    "# 初始值: \n",
    "# f(n) =  \n",
    "def knapsack(weights, capacity):\n",
    "    return\n",
    "\n",
    "knapsack([2, 2, 4, 6, 3], 9)\n",
    "\n",
    "\n",
    "# 0-1背包问题，容量11，物品占用容量[3,2,6,3,5,4,4,3]，物品价值[5,1,8,4,6,3,2,4]，价值最优解\n",
    "# dp[m][n]: 前m物品在背包容量为n时，价值最优解\n",
    "# 初始值: dp[:][0] = 0 \n",
    "# f(m, n) = max(f(m-1, n), f(m-1, n-w(m)) + v(m))\n",
    "# def knapsack_pro(weights, values, capacity):\n",
    "#     height = len(weights) + 1\n",
    "#     width = capacity + 1\n",
    "#     dp = np.zeros((height, width), dtype=np.int32)\n",
    "#     for c in range(1, width):\n",
    "#         for n in range(1, height):\n",
    "#             idx = n - 1\n",
    "#             if weights[idx] > c:\n",
    "#                 dp[n][c] = dp[n-1][c]\n",
    "#             else:\n",
    "#                 dp[n][c] = max(dp[n-1][c], dp[n-1][c - weights[idx]] + values[idx])\n",
    "#     print(dp)\n",
    "#     return dp[-1, -1]\n",
    "\n",
    "# weights = [3, 2, 6, 3, 5, 4, 4, 3]\n",
    "# values = [5, 1, 8, 4, 6, 3, 2, 4]\n",
    "# capacity = 11\n",
    "# knapsack_pro(weights, values, capacity)"
   ]
  },
  {
   "cell_type": "code",
   "execution_count": 22,
   "metadata": {},
   "outputs": [
    {
     "name": "stdout",
     "output_type": "stream",
     "text": [
      "[[0 0 0 0 0 0 0 0 0 0]\n",
      " [0 0 0 0 0 1 1 1 1 1]\n",
      " [0 0 0 0 0 1 1 1 1 1]\n",
      " [0 0 0 0 0 1 1 1 1 1]\n",
      " [0 0 0 0 0 1 1 1 1 1]\n",
      " [0 0 0 0 0 1 1 1 1 1]\n",
      " [0 0 0 0 0 1 1 1 1 1]\n",
      " [0 0 0 0 0 1 1 1 1 1]\n",
      " [0 0 1 1 1 1 1 1 1 1]]\n"
     ]
    },
    {
     "data": {
      "text/plain": [
       "1"
      ]
     },
     "execution_count": 22,
     "metadata": {},
     "output_type": "execute_result"
    }
   ],
   "source": [
    "import numpy as np\n",
    "# 1143: longestCommonSubsequence\n",
    "# dp[m][n]: s1[:m+1]与s2[:n+1]的最长公共子序列长度\n",
    "# 初始值: dp[:][0] = 0 dp[0][:] = 0\n",
    "# f(m, n) = max(f(m-1, n), f(m, n-1)) or f(m-1, n-1) + 1\n",
    "def longestCommonSubsequence(s1, s2):\n",
    "    height = len(s1) + 1\n",
    "    width = len(s2) + 1\n",
    "    dp = np.zeros((height, width), dtype=np.int32)\n",
    "    for h in range(1, height):\n",
    "        for w in range(1, width):\n",
    "            if s1[h-1] == s2[w-1]:\n",
    "                dp[h][w] = dp[h-1][w-1] + 1\n",
    "            else:\n",
    "                dp[h][w] = max(dp[h-1][w], dp[h][w-1])\n",
    "    print(dp)\n",
    "    return dp[-1, -1]\n",
    "\n",
    "longestCommonSubsequence(\"bsbininm\", \"jmjkbkjkv\")  # 1"
   ]
  },
  {
   "cell_type": "code",
   "execution_count": null,
   "metadata": {},
   "outputs": [],
   "source": [
    "# 887: superEggDrop\n",
    "def superEggDrop(k, n):\n",
    "    return\n",
    "\n",
    "superEggDrop(3, 14)  # 4"
   ]
  }
 ],
 "metadata": {
  "kernelspec": {
   "display_name": "Python 3",
   "language": "python",
   "name": "python3"
  },
  "language_info": {
   "codemirror_mode": {
    "name": "ipython",
    "version": 3
   },
   "file_extension": ".py",
   "mimetype": "text/x-python",
   "name": "python",
   "nbconvert_exporter": "python",
   "pygments_lexer": "ipython3",
   "version": "3.8.3"
  }
 },
 "nbformat": 4,
 "nbformat_minor": 4
}
