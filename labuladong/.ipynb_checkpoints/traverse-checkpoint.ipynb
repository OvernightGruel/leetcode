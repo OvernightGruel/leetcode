{
 "cells": [
  {
   "cell_type": "code",
   "execution_count": 4,
   "metadata": {},
   "outputs": [
    {
     "name": "stdout",
     "output_type": "stream",
     "text": [
      "1\n",
      "3\n",
      "4\n",
      "2\n",
      "5\n",
      "7\n"
     ]
    }
   ],
   "source": [
    "# array\n",
    "def traverse(array):\n",
    "    for i in range(len(array)):\n",
    "        print(array[i])\n",
    "\n",
    "\n",
    "traverse([1, 3, 4, 2, 5, 7])"
   ]
  },
  {
   "cell_type": "code",
   "execution_count": 3,
   "metadata": {},
   "outputs": [
    {
     "name": "stdout",
     "output_type": "stream",
     "text": [
      "6\n",
      "5\n",
      "4\n",
      "3\n",
      "2\n",
      "1\n"
     ]
    }
   ],
   "source": [
    "# linked list\n",
    "class ListNode:\n",
    "\n",
    "    def __init__(self, val, next_node=None):\n",
    "        self.val = val\n",
    "        self.next = next_node\n",
    "\n",
    "\n",
    "def traverse(list_node):\n",
    "    if list_node is None:\n",
    "        return\n",
    "    # 前序遍历\n",
    "#     print(list_node.val)\n",
    "    traverse(list_node.next)\n",
    "    # 后序遍历\n",
    "    print(list_node.val)\n",
    "\n",
    "\n",
    "a = ListNode(6)\n",
    "b = ListNode(5, a)\n",
    "c = ListNode(4, b)\n",
    "d = ListNode(3, c)\n",
    "e = ListNode(2, d)\n",
    "f = ListNode(1, e)\n",
    "\n",
    "traverse(f)"
   ]
  },
  {
   "cell_type": "code",
   "execution_count": 5,
   "metadata": {},
   "outputs": [
    {
     "name": "stdout",
     "output_type": "stream",
     "text": [
      "1\n",
      "2\n",
      "4\n",
      "3\n"
     ]
    }
   ],
   "source": [
    "# tree\n",
    "class TreeNode:\n",
    "\n",
    "    def __init__(self, val, left=None, right=None):\n",
    "        self.val = val\n",
    "        self.left = left\n",
    "        self.right = right\n",
    "\n",
    "\n",
    "def traverse(tree_node):\n",
    "    if tree_node is None:\n",
    "        return\n",
    "    # 前序遍历\n",
    "    print(tree_node.val)\n",
    "    traverse(tree_node.left)\n",
    "    # 中序遍历\n",
    "    # print(tree_node.val)\n",
    "    traverse(tree_node.right)\n",
    "    # 后序遍历\n",
    "    # print(tree_node.val)\n",
    "\n",
    "    \n",
    "a = TreeNode(4)\n",
    "b = TreeNode(2, left=a)\n",
    "c = TreeNode(3)\n",
    "d = TreeNode(1, left=b, right=c)\n",
    "\n",
    "traverse(d)\n",
    "\n",
    "\n",
    "# class TreeNode:\n",
    "\n",
    "#     def __init__(self, val, children=None):\n",
    "#         if children is None:\n",
    "#             children = []\n",
    "#         self.val = val\n",
    "#         self.children = children\n",
    "\n",
    "\n",
    "# def traverse(tree_node):\n",
    "#     for children in tree_node.children:\n",
    "#         traverse(children)"
   ]
  },
  {
   "cell_type": "code",
   "execution_count": null,
   "metadata": {},
   "outputs": [],
   "source": []
  }
 ],
 "metadata": {
  "kernelspec": {
   "display_name": "Python 3",
   "language": "python",
   "name": "python3"
  },
  "language_info": {
   "codemirror_mode": {
    "name": "ipython",
    "version": 3
   },
   "file_extension": ".py",
   "mimetype": "text/x-python",
   "name": "python",
   "nbconvert_exporter": "python",
   "pygments_lexer": "ipython3",
   "version": "3.8.3"
  }
 },
 "nbformat": 4,
 "nbformat_minor": 4
}
