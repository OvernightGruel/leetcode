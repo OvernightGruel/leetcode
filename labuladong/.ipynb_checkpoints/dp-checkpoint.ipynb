{
 "cells": [
  {
   "cell_type": "code",
   "execution_count": 13,
   "metadata": {},
   "outputs": [
    {
     "data": {
      "text/plain": [
       "55"
      ]
     },
     "execution_count": 13,
     "metadata": {},
     "output_type": "execute_result"
    }
   ],
   "source": [
    "import numpy as np\n",
    "\n",
    "# fib: f(n) = f(n-2) + f(n-1)\n",
    "# def fib(n):\n",
    "#     if n < 0:\n",
    "#         return 0\n",
    "#     if n < 2:\n",
    "#         return n\n",
    "#     length = n + 1\n",
    "#     opt = np.zeros(length)\n",
    "#     opt[0] = 0\n",
    "#     opt[1] = 1  # base case\n",
    "#     for i in range(2, length):\n",
    "#         opt[i] = opt[i-2] + opt[i-1]\n",
    "#     print(opt)\n",
    "#     return opt[n]\n",
    "    \n",
    "\n",
    "# 状态压缩\n",
    "def fib(n):\n",
    "    if n < 0:\n",
    "        return 0\n",
    "    if n < 2:\n",
    "        return n\n",
    "    n_2 = 0\n",
    "    n_1 = 1\n",
    "    for i in range(2, n+1):\n",
    "        res = n_2 + n_1\n",
    "        n_2, n_1 = n_1, res\n",
    "    return res\n",
    "    \n",
    "fib(10)"
   ]
  },
  {
   "cell_type": "code",
   "execution_count": 14,
   "metadata": {},
   "outputs": [
    {
     "name": "stdout",
     "output_type": "stream",
     "text": [
      "[0, 28, 1, 28, 2, 1, 3, 1, 4, 2, 2, 3, 2, 4, 2, 3, 3, 3, 4, 3, 4, 3, 4, 4, 4, 5, 4, 5]\n"
     ]
    },
    {
     "data": {
      "text/plain": [
       "5"
      ]
     },
     "execution_count": 14,
     "metadata": {},
     "output_type": "execute_result"
    }
   ],
   "source": [
    "# coins change: f(n) = min(f(n-coin)) + 1\n",
    "def coin_change(coins, amount):\n",
    "    length = amount + 1\n",
    "    opt = [length for _ in range(length)]\n",
    "    opt[0] = 0\n",
    "    for i in range(length):\n",
    "        for c in coins:\n",
    "            if i - c >= 0:\n",
    "                opt[i] = min(opt[i - c] + 1, opt[i])\n",
    "    print(opt)\n",
    "    return -1 if opt[-1] == length else opt[-1]\n",
    "\n",
    "\n",
    "coin_change([2, 5, 7], 27)"
   ]
  },
  {
   "cell_type": "code",
   "execution_count": null,
   "metadata": {},
   "outputs": [],
   "source": []
  }
 ],
 "metadata": {
  "kernelspec": {
   "display_name": "Python 3",
   "language": "python",
   "name": "python3"
  },
  "language_info": {
   "codemirror_mode": {
    "name": "ipython",
    "version": 3
   },
   "file_extension": ".py",
   "mimetype": "text/x-python",
   "name": "python",
   "nbconvert_exporter": "python",
   "pygments_lexer": "ipython3",
   "version": "3.8.3"
  }
 },
 "nbformat": 4,
 "nbformat_minor": 4
}
