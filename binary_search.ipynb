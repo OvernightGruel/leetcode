{
 "cells": [
  {
   "cell_type": "code",
   "execution_count": null,
   "metadata": {},
   "outputs": [],
   "source": [
    "# 二分查找 时间复杂度: O(logn)\n",
    "\n",
    "def binary_search(nums, n):\n",
    "    left = 0\n",
    "    right = len(nums) - 1\n",
    "    while left <= right:\n",
    "        mid = left + (right - left) // 2\n",
    "        if nums[mid] == n:\n",
    "            return mid\n",
    "        elif nums[mid] < n:\n",
    "            left = mid + 1\n",
    "        elif nums[mid] > n:\n",
    "            right = mid - 1\n",
    "    return -1\n",
    "\n",
    "binary_search([1, 3, 6, 9, 12, 14, 33, 43], 12)"
   ]
  },
  {
   "cell_type": "code",
   "execution_count": 42,
   "metadata": {},
   "outputs": [
    {
     "data": {
      "text/plain": [
       "10"
      ]
     },
     "execution_count": 42,
     "metadata": {},
     "output_type": "execute_result"
    }
   ],
   "source": [
    "# 二分查找变种\n",
    "\n",
    "# def left_bound(nums, n):\n",
    "#     left = 0\n",
    "#     right = len(nums) - 1\n",
    "#     while left <= right:  # left=mid=right --> right left终止\n",
    "#         mid = left + (right - left) // 2\n",
    "#         if nums[mid] >= n:\n",
    "#             right = mid - 1\n",
    "#         elif nums[mid] < n:\n",
    "#             left = mid + 1\n",
    "# #     return left  # < n 的元素个数\n",
    "#     return -1 if left >= len(nums) or nums[left] != n else left\n",
    "\n",
    "# left_bound([1, 4, 5, 8, 11, 14, 14, 14, 14, 15, 21, 22], 11) \n",
    "\n",
    "\n",
    "def right_bound(nums, n):\n",
    "    left = 0 \n",
    "    right = len(nums) - 1\n",
    "    while left <= right:  # left=mid=right --> right left终止\n",
    "        mid = left + (right - left) // 2\n",
    "        if nums[mid] <= n:\n",
    "            left = mid + 1\n",
    "        elif nums[mid] > n:\n",
    "            right = mid - 1\n",
    "#     return left  # <= n 的元素个数\n",
    "    return -1 if right < 0 or nums[right] != n else right\n",
    "\n",
    "right_bound([1, 3, 4, 5, 8, 11, 14, 14, 14, 14, 15, 21, 22], 14)"
   ]
  },
  {
   "cell_type": "code",
   "execution_count": null,
   "metadata": {},
   "outputs": [],
   "source": [
    "# 循环数组 leetcode 33\n",
    "\n",
    "def search(nums, n):\n",
    "    left = 0\n",
    "    right = len(nums) - 1\n",
    "    while left <= right:\n",
    "        mid = left + (right - left) // 2\n",
    "        if nums[mid] == n:\n",
    "            return mid\n",
    "        if nums[left] <= nums[mid]:\n",
    "            if nums[left] <= n < nums[mid]:\n",
    "                right = mid - 1\n",
    "            else:\n",
    "                left = mid + 1\n",
    "        else:\n",
    "            if nums[mid] < n <= nums[right]:\n",
    "                left = mid + 1\n",
    "            else:\n",
    "                right = mid - 1\n",
    "    return -1\n",
    "    \n",
    "    \n",
    "search([4,5,6,7,0,1,2], 3)"
   ]
  }
 ],
 "metadata": {
  "kernelspec": {
   "display_name": "Python 3",
   "language": "python",
   "name": "python3"
  },
  "language_info": {
   "codemirror_mode": {
    "name": "ipython",
    "version": 3
   },
   "file_extension": ".py",
   "mimetype": "text/x-python",
   "name": "python",
   "nbconvert_exporter": "python",
   "pygments_lexer": "ipython3",
   "version": "3.8.3"
  }
 },
 "nbformat": 4,
 "nbformat_minor": 4
}
